{
 "cells": [
  {
   "cell_type": "markdown",
   "metadata": {},
   "source": [
    "# Final Project: Hazardous N.E.O. Classifier"
   ]
  },
  {
   "cell_type": "markdown",
   "metadata": {},
   "source": [
    "NOTE: A summary will be provided at the bottom of the notebook for ease of grading."
   ]
  },
  {
   "cell_type": "markdown",
   "metadata": {},
   "source": [
    "## Objective and Overview"
   ]
  },
  {
   "cell_type": "markdown",
   "metadata": {},
   "source": [
    "In this notebook, we will be training and evaluating several different models: 3 logistic regression classifiers, 2 SVM classifiers, and a random forest classifier.\n",
    "\n",
    "Since we are training multiple logistic regression and SVM classifiers, we will identify which performs the best to compare with the other model types.\n",
    "\n",
    "Our goal is to identify which model type performs best on the dataset in terms of run time and f1-score.\n",
    "\n",
    "The dataset we will be using is the [\"NASA | Nearest Earth Objects (1910-2024)\"](https://www.kaggle.com/datasets/ivansher/nasa-nearest-earth-objects-1910-2024) dataset from Kaggle. This dataset provides 8 features, and a binary classification as the target label, indicating whether or not the object was deemed \"hazardous\". A more detailed description is provided in the \"Loading and Describing the Dataset\" subsection within the \"Preparation\" section."
   ]
  },
  {
   "cell_type": "markdown",
   "metadata": {},
   "source": [
    "## Preparation"
   ]
  },
  {
   "cell_type": "markdown",
   "metadata": {},
   "source": [
    "### Import necessary libraries and define some helper functions"
   ]
  },
  {
   "cell_type": "code",
   "execution_count": 26,
   "metadata": {},
   "outputs": [],
   "source": [
    "import numpy as np\n",
    "import pandas as pd\n",
    "\n",
    "# for visualization\n",
    "import matplotlib.pyplot as plt\n",
    "import seaborn as sns"
   ]
  },
  {
   "cell_type": "markdown",
   "metadata": {},
   "source": [
    "This first function will help load our performance metrics into a `scores` dictionary for easy referencing and plotting."
   ]
  },
  {
   "cell_type": "code",
   "execution_count": 27,
   "metadata": {},
   "outputs": [],
   "source": [
    "def allocate_report_metrics(fold: int, scores: dict, report: dict, accuracy, auc):\n",
    "    scores.setdefault('fold', []).append(fold)\n",
    "    scores.setdefault('precision', []).append(report['1']['precision'])\n",
    "    scores.setdefault('recall', []).append(report['1']['recall'])\n",
    "    scores.setdefault('f1-score', []).append(report['1']['f1-score'])\n",
    "    scores.setdefault('accuracy', []).append(accuracy)\n",
    "    scores.setdefault('auc', []).append(auc)"
   ]
  },
  {
   "cell_type": "markdown",
   "metadata": {},
   "source": [
    "This next function will help us visualize the distributions of our features, and give us an idea of what sort of transformations will be necessary."
   ]
  },
  {
   "cell_type": "code",
   "execution_count": 28,
   "metadata": {},
   "outputs": [],
   "source": [
    "def plot_feature_distributions(df_: pd.DataFrame, f_columns):\n",
    "    fig, axes = plt.subplots(nrows=5, ncols=2, figsize=(15, 20))\n",
    "\n",
    "    axes = axes.flatten()\n",
    "\n",
    "    for i, col in enumerate(f_columns):\n",
    "        sns.histplot(df_[col], ax=axes[i], kde=True)\n",
    "        axes[i].set_title(f'Distribution of {col}')\n",
    "        axes[i].set_xlabel(col)\n",
    "        axes[i].set_ylabel('Count')\n",
    "    \n",
    "    for i in range(len(f_columns), len(axes)):\n",
    "        fig.delaxes(axes[i])\n",
    "    \n",
    "    plt.tight_layout()\n",
    "    plt.show()"
   ]
  },
  {
   "cell_type": "markdown",
   "metadata": {},
   "source": [
    "`plot_performance_metrics` will do as the name implies -- plot our performance metrics for each model, such as accuracy, recall, precision, f1-score, etc. ."
   ]
  },
  {
   "cell_type": "code",
   "execution_count": 29,
   "metadata": {},
   "outputs": [],
   "source": [
    "from matplotlib.ticker import MaxNLocator\n",
    "\n",
    "def plot_performance_metrics(model_scores: dict, num_folds: int, sampling: int = 0):\n",
    "    if len(list(model_scores.values())[0]['fold']) == 1:\n",
    "        # create a bar plot for each metric\n",
    "        label, scores = list(model_scores.items())[0]\n",
    "        df_scores = pd.DataFrame(scores).drop(columns=['fold'])\n",
    "        \n",
    "        fig, ax = plt.subplots(figsize=(10, 6))\n",
    "        df_scores.plot(kind='bar', ax=ax)\n",
    "        \n",
    "        ax.set_title(f'Metrics for {label}')\n",
    "        ax.set_xlabel('')\n",
    "        ax.set_ylabel('Score')\n",
    "        ax.legend(title='Metric')\n",
    "        ax.grid(True)\n",
    "\n",
    "        # Remove x-ticks and set y-ticks\n",
    "\n",
    "        ax.set_xticks([])\n",
    "        ax.yaxis.set_major_locator(MaxNLocator(11))\n",
    "        ax.set_yticks([i / 10.0 for i in range(11)])\n",
    "        \n",
    "        plt.tight_layout()\n",
    "\n",
    "    else:\n",
    "        fig, axes = plt.subplots(1, len(model_scores), figsize=(10,6), sharey=True)\n",
    "        for ax, (label, scores) in zip([axes], model_scores.items()):\n",
    "            sns.lineplot(data=pd.DataFrame(scores), x='fold', y='precision', label='Precision', marker='o', ax=ax)\n",
    "            sns.lineplot(data=pd.DataFrame(scores), x='fold', y='recall', label='Recall', marker='o', ax=ax)\n",
    "            sns.lineplot(data=pd.DataFrame(scores), x='fold', y='f1-score', label='F1-Score', marker='o', ax=ax)\n",
    "            sns.lineplot(data=pd.DataFrame(scores), x='fold', y='accuracy', label='Accuracy', marker='o', ax=ax)\n",
    "            sns.lineplot(data=pd.DataFrame(scores), x='fold', y='auc', label='AUC score', marker='o', ax=ax)\n",
    "            ax.set_title(f'Metrics Progression for {label}')\n",
    "            ax.set_xlabel('Fold')\n",
    "            ax.xaxis.set_major_locator(MaxNLocator(integer=True))\n",
    "            ax.set_ylabel('Score')\n",
    "            ax.legend()\n",
    "            ax.grid(True)\n",
    "    \n",
    "    if sampling > 0:\n",
    "        plot_title = f\"Model Performance Metrics over {num_folds} Folds (with over-sampling)\"\n",
    "    elif sampling < 0:\n",
    "        plot_title = f\"Model Performance Metrics over {num_folds} Folds (with under-sampling)\"\n",
    "    else:\n",
    "        plot_title = f\"Model Performance Metrics over {num_folds} Folds\"\n",
    "    plt.suptitle(plot_title, fontsize=16)\n",
    "    plt.tight_layout()\n",
    "    plt.show()"
   ]
  },
  {
   "cell_type": "markdown",
   "metadata": {},
   "source": [
    "Since we are working with a binary classification problem, a confusion matrix will serve as a very easy and intuitive way to visualize the models' performance.\n",
    "\n",
    "`plot_confusion_matrix` will give us exactly that."
   ]
  },
  {
   "cell_type": "code",
   "execution_count": 30,
   "metadata": {},
   "outputs": [],
   "source": [
    "def plot_confusion_matrix(conf_matrix: dict, num_folds: int, sampling: int = 0):\n",
    "    fig, ax = plt.subplots(nrows=1, ncols=1)\n",
    "    # axList = axList.flatten()\n",
    "    fig.set_size_inches(10, 8)\n",
    "\n",
    "    ax.axis('off')\n",
    "\n",
    "    lab = next(iter(conf_matrix))\n",
    "\n",
    "    # for ax,lab in zip(axList[:-1], conf_matrices.keys()):\n",
    "    sns.heatmap(conf_matrix[lab], ax=ax, annot=True, fmt='d')\n",
    "    ax.set(title=lab)\n",
    "    \n",
    "    if sampling > 0:\n",
    "        plot_title = f\"Average Confusion Matrix Over {num_folds} Folds (with over-sampling)\"\n",
    "    elif sampling < 0:\n",
    "        plot_title = f\"Average Confusion Matrix Over {num_folds} Folds (with under-sampling)\"\n",
    "    else:\n",
    "        plot_title = f\"Average Confusion Matrix Over {num_folds} Folds\"\n",
    "    plt.suptitle(plot_title, fontsize=16)\n",
    "    plt.tight_layout()"
   ]
  },
  {
   "cell_type": "markdown",
   "metadata": {},
   "source": [
    "We can use the following functions to plot the coefficients of the logistic regression models we will be training."
   ]
  },
  {
   "cell_type": "code",
   "execution_count": 31,
   "metadata": {},
   "outputs": [],
   "source": [
    "def get_feature_coefs(coef, columns):\n",
    "    coef_dict = {}\n",
    "    for coef, feat in zip(coef, columns):\n",
    "        # if abs(coef) >= 0.01:\n",
    "        coef_dict[feat] = coef\n",
    "    # Sort coefficients\n",
    "    coef_dict = {k: v for k, v in sorted(coef_dict.items(), key=lambda item: item[1])}\n",
    "    return coef_dict\n",
    "\n",
    "def get_bar_colors(values):\n",
    "    color_vals = []\n",
    "    for val in values:\n",
    "        if val <= 0:\n",
    "            color_vals.append('r')\n",
    "        else:\n",
    "            color_vals.append('g')\n",
    "    return color_vals\n",
    "\n",
    "# Visualize coefficients\n",
    "def visualize_coefs(label: str, coef_dict: dict, num_folds: int, sampling: int):\n",
    "    features = list(coef_dict.keys())\n",
    "    values = list(coef_dict.values())\n",
    "    y_pos = np.arange(len(features))\n",
    "    color_vals = get_bar_colors(values)\n",
    "    plt.rcdefaults()\n",
    "    fig, ax = plt.subplots()\n",
    "    ax.barh(y_pos, values, align='center', color=color_vals)\n",
    "    ax.set_yticks(y_pos)\n",
    "    ax.set_yticklabels(features)\n",
    "    # labels read top-to-bottom\n",
    "    ax.invert_yaxis()  \n",
    "    ax.set_xlabel('Feature Coefficients')\n",
    "\n",
    "    if sampling > 0:\n",
    "        plot_title = f'Avg Coefficients for Model over {num_folds} folds : {label} (with over-sampling)'\n",
    "    elif sampling < 0:\n",
    "        plot_title = f'Avg Coefficients for Model over {num_folds} folds : {label} (with under-sampling)'\n",
    "    else:\n",
    "        plot_title = f'Avg Coefficients for Model over {num_folds} folds : {label}'\n",
    "    ax.set_title(plot_title)\n",
    "    plt.show()"
   ]
  },
  {
   "cell_type": "markdown",
   "metadata": {},
   "source": [
    "### Loading and describing the dataset"
   ]
  },
  {
   "cell_type": "markdown",
   "metadata": {},
   "source": [
    "First and foremost, let's load in our dataset. \n",
    "\n",
    "We will be using the [\"NASA | Nearest Earth Objects (1910-2024)\"](https://www.kaggle.com/datasets/ivansher/nasa-nearest-earth-objects-1910-2024) dataset from Kaggle. \n",
    "\n",
    "This dataset is a collection of 338,199 samples of near-earth objects (primarily asteroids) that have been tracked orbiting earth.\n",
    "\n",
    "It contains a total of 8 features, and a single binary label.\n",
    "\n",
    "Features:\n",
    "\n",
    "        - neo_id : Unique identifier for each asteroid\n",
    "\n",
    "        - name : Name of the object given by NASA\n",
    "\n",
    "        - absolute-magnitude : this represents the intrinsic luminosity of the object (lower value means a larger OR brighter object)\n",
    "\n",
    "        - estimated_diameter_min : the estimated minimum diameter of the object\n",
    "\n",
    "        - estimated_diameter_max : the estimated maximum diameter of the object\n",
    "\n",
    "        - orbiting_body : the primary body that the object is orbiting (Earth)\n",
    "\n",
    "        - relative_velocity : the velocity relative to earth in Kmph\n",
    "\n",
    "        - miss_distance : the distance in Km that the object missed earth in the logged pass\n",
    "\n",
    "\n",
    "Label:\n",
    "\n",
    "        - is_hazardous : boolean feature that shows whether the object is a risk to the orbiting body"
   ]
  },
  {
   "cell_type": "markdown",
   "metadata": {},
   "source": [
    "Notice that we drop any rows with null values.\n",
    "\n",
    "I felt this was safe to do, since our dataset is fairly large (300k+ samples), and this operation removed less than 1% of all the samples."
   ]
  },
  {
   "cell_type": "code",
   "execution_count": 32,
   "metadata": {},
   "outputs": [
    {
     "data": {
      "text/html": [
       "<div>\n",
       "<style scoped>\n",
       "    .dataframe tbody tr th:only-of-type {\n",
       "        vertical-align: middle;\n",
       "    }\n",
       "\n",
       "    .dataframe tbody tr th {\n",
       "        vertical-align: top;\n",
       "    }\n",
       "\n",
       "    .dataframe thead th {\n",
       "        text-align: right;\n",
       "    }\n",
       "</style>\n",
       "<table border=\"1\" class=\"dataframe\">\n",
       "  <thead>\n",
       "    <tr style=\"text-align: right;\">\n",
       "      <th></th>\n",
       "      <th>neo_id</th>\n",
       "      <th>name</th>\n",
       "      <th>absolute_magnitude</th>\n",
       "      <th>estimated_diameter_min</th>\n",
       "      <th>estimated_diameter_max</th>\n",
       "      <th>orbiting_body</th>\n",
       "      <th>relative_velocity</th>\n",
       "      <th>miss_distance</th>\n",
       "      <th>is_hazardous</th>\n",
       "    </tr>\n",
       "  </thead>\n",
       "  <tbody>\n",
       "    <tr>\n",
       "      <th>0</th>\n",
       "      <td>2162117</td>\n",
       "      <td>162117 (1998 SD15)</td>\n",
       "      <td>19.14</td>\n",
       "      <td>0.394962</td>\n",
       "      <td>0.883161</td>\n",
       "      <td>Earth</td>\n",
       "      <td>71745.401048</td>\n",
       "      <td>5.814362e+07</td>\n",
       "      <td>False</td>\n",
       "    </tr>\n",
       "    <tr>\n",
       "      <th>1</th>\n",
       "      <td>2349507</td>\n",
       "      <td>349507 (2008 QY)</td>\n",
       "      <td>18.50</td>\n",
       "      <td>0.530341</td>\n",
       "      <td>1.185878</td>\n",
       "      <td>Earth</td>\n",
       "      <td>109949.757148</td>\n",
       "      <td>5.580105e+07</td>\n",
       "      <td>True</td>\n",
       "    </tr>\n",
       "    <tr>\n",
       "      <th>2</th>\n",
       "      <td>2455415</td>\n",
       "      <td>455415 (2003 GA)</td>\n",
       "      <td>21.45</td>\n",
       "      <td>0.136319</td>\n",
       "      <td>0.304818</td>\n",
       "      <td>Earth</td>\n",
       "      <td>24865.506798</td>\n",
       "      <td>6.720689e+07</td>\n",
       "      <td>False</td>\n",
       "    </tr>\n",
       "    <tr>\n",
       "      <th>3</th>\n",
       "      <td>3132126</td>\n",
       "      <td>(2002 PB)</td>\n",
       "      <td>20.63</td>\n",
       "      <td>0.198863</td>\n",
       "      <td>0.444672</td>\n",
       "      <td>Earth</td>\n",
       "      <td>78890.076805</td>\n",
       "      <td>3.039644e+07</td>\n",
       "      <td>False</td>\n",
       "    </tr>\n",
       "    <tr>\n",
       "      <th>4</th>\n",
       "      <td>3557844</td>\n",
       "      <td>(2011 DW)</td>\n",
       "      <td>22.70</td>\n",
       "      <td>0.076658</td>\n",
       "      <td>0.171412</td>\n",
       "      <td>Earth</td>\n",
       "      <td>56036.519484</td>\n",
       "      <td>6.311863e+07</td>\n",
       "      <td>False</td>\n",
       "    </tr>\n",
       "  </tbody>\n",
       "</table>\n",
       "</div>"
      ],
      "text/plain": [
       "    neo_id                name  absolute_magnitude  estimated_diameter_min  \\\n",
       "0  2162117  162117 (1998 SD15)               19.14                0.394962   \n",
       "1  2349507    349507 (2008 QY)               18.50                0.530341   \n",
       "2  2455415    455415 (2003 GA)               21.45                0.136319   \n",
       "3  3132126           (2002 PB)               20.63                0.198863   \n",
       "4  3557844           (2011 DW)               22.70                0.076658   \n",
       "\n",
       "   estimated_diameter_max orbiting_body  relative_velocity  miss_distance  \\\n",
       "0                0.883161         Earth       71745.401048   5.814362e+07   \n",
       "1                1.185878         Earth      109949.757148   5.580105e+07   \n",
       "2                0.304818         Earth       24865.506798   6.720689e+07   \n",
       "3                0.444672         Earth       78890.076805   3.039644e+07   \n",
       "4                0.171412         Earth       56036.519484   6.311863e+07   \n",
       "\n",
       "   is_hazardous  \n",
       "0         False  \n",
       "1          True  \n",
       "2         False  \n",
       "3         False  \n",
       "4         False  "
      ]
     },
     "execution_count": 32,
     "metadata": {},
     "output_type": "execute_result"
    }
   ],
   "source": [
    "df = pd.read_csv(\"nearest-earth-objects(1910-2024).csv\")\n",
    "df = df.dropna()\n",
    "df = df.reset_index(drop=True)\n",
    "df.head()"
   ]
  },
  {
   "cell_type": "markdown",
   "metadata": {},
   "source": [
    "We will be ignoring the `neo_id`, `name`, and `orbiting_body` columns.\n",
    "\n",
    "The first two give us no predictive power, since they both are simply names given to the object.\n",
    "`orbiting_body` only has 1 unique value across the whole dataset, and so it will also give us no predictive power.\n",
    "\n",
    "We separate the features of interest for future use."
   ]
  },
  {
   "cell_type": "code",
   "execution_count": 33,
   "metadata": {},
   "outputs": [],
   "source": [
    "feature_cols = df.columns[2:-1]\n",
    "feature_cols = feature_cols.drop('orbiting_body')"
   ]
  },
  {
   "cell_type": "code",
   "execution_count": 34,
   "metadata": {},
   "outputs": [
    {
     "name": "stdout",
     "output_type": "stream",
     "text": [
      "feature dtypes:\n",
      " float64    5\n",
      "Name: count, dtype: int64\n",
      "\n",
      "label dtype:\n",
      " bool\n"
     ]
    }
   ],
   "source": [
    "print('feature dtypes:\\n',df[feature_cols].dtypes.value_counts())\n",
    "print('\\nlabel dtype:\\n', df['is_hazardous'].dtype)"
   ]
  },
  {
   "cell_type": "markdown",
   "metadata": {},
   "source": [
    "Let's go ahead and recast the label from a boolean, and get an idea of how skewed the labels are."
   ]
  },
  {
   "cell_type": "code",
   "execution_count": 35,
   "metadata": {},
   "outputs": [
    {
     "data": {
      "text/plain": [
       "is_hazardous\n",
       "0    0.872366\n",
       "1    0.127634\n",
       "Name: proportion, dtype: float64"
      ]
     },
     "execution_count": 35,
     "metadata": {},
     "output_type": "execute_result"
    }
   ],
   "source": [
    "from sklearn.preprocessing import LabelEncoder\n",
    "\n",
    "le = LabelEncoder()\n",
    "df['is_hazardous'] = le.fit_transform(df.is_hazardous)\n",
    "df['is_hazardous'].value_counts(normalize=True)"
   ]
  },
  {
   "cell_type": "markdown",
   "metadata": {},
   "source": [
    "The dataset is moderately skewed, only having about 13% of the labels being \"hazardous\" (the \"true\" label). \n",
    "\n",
    "We'll address this in the next section, where we perform our preprocessing of the data."
   ]
  },
  {
   "cell_type": "markdown",
   "metadata": {},
   "source": [
    "### Preprocessing the data"
   ]
  },
  {
   "cell_type": "markdown",
   "metadata": {},
   "source": [
    "#### Visualizing the distributions and correlations"
   ]
  },
  {
   "cell_type": "markdown",
   "metadata": {},
   "source": [
    "We'll begin this section by getting an idea of the basic statistics of the features."
   ]
  },
  {
   "cell_type": "code",
   "execution_count": null,
   "metadata": {},
   "outputs": [],
   "source": [
    "df[feature_cols].describe()"
   ]
  },
  {
   "cell_type": "markdown",
   "metadata": {},
   "source": [
    "We appear to have quite skewed distributions in our features, with the mean and max values differing by factors of over 100 in some cases. \n",
    "Additionally, we have some rather large values for `relative_velocity` and `miss_distance`. \n",
    "\n",
    "Since two of the models we will be training in this notebook are a logistic regression model and an SVM model, we will want to standardize our data and ensure normality.\n",
    "\n",
    "Let's take a look at the distributions of our features before we get into transforming our data."
   ]
  },
  {
   "cell_type": "code",
   "execution_count": null,
   "metadata": {},
   "outputs": [],
   "source": [
    "plot_feature_distributions(df, feature_cols)"
   ]
  },
  {
   "cell_type": "markdown",
   "metadata": {},
   "source": [
    "As anticipated, our distributions are highly skewed. We will fix this in the next subsection.\n",
    "\n",
    "Next, let's check for any correlations among our features."
   ]
  },
  {
   "cell_type": "code",
   "execution_count": null,
   "metadata": {},
   "outputs": [],
   "source": [
    "# sns.pairplot(df[feature_cols])"
   ]
  },
  {
   "cell_type": "markdown",
   "metadata": {},
   "source": [
    "We can already see some strong correlations between some of our features. \n",
    "\n",
    "Namely, we have an extremely high, positive correlation between `estimated_diameter_min` and `estimated_diameter_max`. This makes sense, as genuinely larger objects will likely have higher values for both of these features compared measurements of smaller objects.\n",
    "\n",
    "We also see negative correlations between `absolute_magnitude` and both `estimated_diameter_min` and `estimated_diameter_max`. This also makes sense, since (while as unintuitive as it may sound) a smaller value for `absolute_magnitude` (intrinsic luminosity) can refer to a larger object (or a more reflective object).\n",
    "\n",
    "Let's create a heatmap of the correlation values to get a clearer idea of the correlations."
   ]
  },
  {
   "cell_type": "code",
   "execution_count": null,
   "metadata": {},
   "outputs": [],
   "source": [
    "df_corr = df[feature_cols].corr()\n",
    "sns.heatmap(df_corr, annot=df_corr, fmt='0.2')"
   ]
  },
  {
   "cell_type": "markdown",
   "metadata": {},
   "source": [
    "As expected, we have an essentially perfect positive correlation between `estimated_diameter_max` and `estimated_diameter_min`, \n",
    "as well as a strong negative correlation between each of those features and `absolute_magnitude`.\n",
    "\n",
    "These correlations may be problematic for our training,  but we'll simply take note of this for now, and address it later as we analyze the performance of the models.\n",
    "\n",
    "Let's get into scaling."
   ]
  },
  {
   "cell_type": "markdown",
   "metadata": {},
   "source": [
    "#### Transforming the features"
   ]
  },
  {
   "cell_type": "markdown",
   "metadata": {},
   "source": [
    "To address the highly skewed distributions of our features, I had to employ a variety of transformations. Simple standard scaling was either ineffective or not enough to normalize all of the features.\n",
    "\n",
    "I kept to monotonic transformations, since many of our features are ordinal in nature.\n",
    "\n",
    "I apply a min-max scaler after achieving normal distributions, since these features don't make much sense if they're negative. This should allow for much more interpretable results."
   ]
  },
  {
   "cell_type": "code",
   "execution_count": null,
   "metadata": {},
   "outputs": [],
   "source": [
    "from sklearn.preprocessing import MinMaxScaler\n",
    "from sklearn.preprocessing import StandardScaler\n",
    "from sklearn.preprocessing import PowerTransformer\n",
    "from sklearn.preprocessing import QuantileTransformer\n",
    "\n",
    "\n",
    "dfc = df.copy()  # copy our dataframe, so we can apply transformations on the copy rather than the original.\n",
    "\n",
    "mms = MinMaxScaler()\n",
    "ss = StandardScaler()\n",
    "bct = PowerTransformer(method='box-cox')\n",
    "qt = QuantileTransformer(output_distribution='normal', random_state=42)\n",
    "\n",
    "dfc['absolute_magnitude'] = ss.fit_transform(pd.DataFrame(dfc['absolute_magnitude']))\n",
    "\n",
    "dfc['estimated_diameter_min'] = bct.fit_transform(pd.DataFrame(dfc['estimated_diameter_min']))\n",
    "\n",
    "dfc['estimated_diameter_max'] = bct.fit_transform(pd.DataFrame(dfc['estimated_diameter_max']))\n",
    "\n",
    "dfc['relative_velocity'] = bct.fit_transform(pd.DataFrame(dfc['relative_velocity']))\n",
    "dfc['relative_velocity'] = ss.fit_transform(pd.DataFrame(dfc['relative_velocity']))\n",
    "\n",
    "dfc['miss_distance'] = qt.fit_transform(pd.DataFrame(dfc['miss_distance']))\n",
    "\n",
    "if True: # this enables us to toggle min-max scaling\n",
    "    dfc['absolute_magnitude'] = mms.fit_transform(pd.DataFrame(dfc['absolute_magnitude']))\n",
    "    dfc['estimated_diameter_min'] = mms.fit_transform(pd.DataFrame(dfc['estimated_diameter_min']))\n",
    "    dfc['estimated_diameter_max'] = mms.fit_transform(pd.DataFrame(dfc['estimated_diameter_max']))\n",
    "    dfc['relative_velocity'] = mms.fit_transform(pd.DataFrame(dfc['relative_velocity']))\n",
    "    dfc['miss_distance'] = mms.fit_transform(pd.DataFrame(dfc['miss_distance']))"
   ]
  },
  {
   "cell_type": "markdown",
   "metadata": {},
   "source": [
    "Let's check how well we managed to reshape our distributions."
   ]
  },
  {
   "cell_type": "code",
   "execution_count": null,
   "metadata": {},
   "outputs": [],
   "source": [
    "plot_feature_distributions(dfc, feature_cols)"
   ]
  },
  {
   "cell_type": "markdown",
   "metadata": {},
   "source": [
    "It looks like we managed to make all of our features fairly normally distributed, and their scale is now consistent.\n",
    "\n",
    "Both of these properties will be valuable for our first two model types."
   ]
  },
  {
   "cell_type": "code",
   "execution_count": null,
   "metadata": {},
   "outputs": [],
   "source": [
    "dfc[feature_cols].describe()"
   ]
  },
  {
   "cell_type": "markdown",
   "metadata": {},
   "source": [
    "## Model Training"
   ]
  },
  {
   "cell_type": "markdown",
   "metadata": {},
   "source": [
    "Now we get into building and training our models.\n",
    "\n",
    "First, we will build three logistic regression models, and compare their performance. We will build a standard logistic regression model (no regularization), as well as two other models with L1 and L2 regularization.\n",
    "\n",
    "From there, we will train two SVM models. One will be a linear SVC model, while the second will include a polynomial kernel.\n",
    "\n",
    "Lastly, we will construct a Random Forest classifier.\n",
    "\n",
    "Once all these models are trained, and the best of each model type are identified, we will compare the performance of the remaining three and collect some insights."
   ]
  },
  {
   "cell_type": "markdown",
   "metadata": {},
   "source": [
    "### Our train-test loop"
   ]
  },
  {
   "cell_type": "markdown",
   "metadata": {},
   "source": [
    "Below is the function we will use to train our models throughout this notebook.\n",
    "\n",
    "We will employ a stratified K-fold approach, and allow for over-sampling through SMOTE, as well as undersampling using a `RandomUnderSampler`. These sampling techniques will only be enabled if indicated in the function.\n",
    "\n",
    "This function will return the performance metrics, so we can pass them in to plot the metrics across folds, as well as the average confusion matrix for each model passed."
   ]
  },
  {
   "cell_type": "code",
   "execution_count": 18,
   "metadata": {},
   "outputs": [],
   "source": [
    "from imblearn.over_sampling import SMOTE\n",
    "from imblearn.under_sampling import RandomUnderSampler\n",
    "from sklearn.metrics import classification_report, accuracy_score, roc_auc_score\n",
    "from sklearn.metrics import confusion_matrix\n",
    "from sklearn.model_selection import StratifiedShuffleSplit\n",
    "\n",
    "\n",
    "def train_test_results(\n",
    "        df_: pd.DataFrame, num_folds: int, test_size: float,\n",
    "        model, label: str,\n",
    "        sampling: int = 0,\n",
    "        **kwargs):\n",
    "    model_scores = {}\n",
    "    conf_matrix = {}\n",
    "    avg_coefs = []\n",
    "    coefs = { 'label': label, 'coefficients': None }\n",
    "\n",
    "    sss = StratifiedShuffleSplit(n_splits=num_folds, test_size=test_size, random_state=42)\n",
    "\n",
    "    for fold, (train_idx, test_idx) in enumerate( sss.split(df_[feature_cols], df_.is_hazardous) ):\n",
    "        estimator = model(**kwargs)\n",
    "\n",
    "        # create train and test splits for each fold\n",
    "        X_train = df_.loc[train_idx, feature_cols]\n",
    "        y_train = df_.loc[train_idx, 'is_hazardous']\n",
    "        X_test  = df_.loc[test_idx, feature_cols]\n",
    "        y_test  = df_.loc[test_idx, 'is_hazardous']\n",
    "\n",
    "        # perform under-/over-sampling if indicated\n",
    "        if sampling < 0:\n",
    "            rus = RandomUnderSampler(random_state=42)\n",
    "            X_train, y_train = rus.fit_resample(X_train, y_train)\n",
    "        elif sampling > 0:\n",
    "            smote = SMOTE(random_state=42)\n",
    "            X_train, y_train = smote.fit_resample(X_train, y_train)\n",
    "        \n",
    "        # fit the models\n",
    "        estimator.fit(X_train, y_train)\n",
    "\n",
    "        # if GridSearchCV is passed, we take the best estimator\n",
    "        if hasattr(estimator, 'best_estimator_'):\n",
    "            print(\"best params\", estimator.best_params_)\n",
    "            estimator = estimator.best_estimator_\n",
    "        # gather predictions on test set\n",
    "        preds = estimator.predict(X_test) \n",
    "        # create report of metrics\n",
    "        model_report = classification_report(y_test, preds, output_dict=True)\n",
    "        accuracy = accuracy_score(y_test, preds)\n",
    "        auc = roc_auc_score(y_test, preds)\n",
    "        # add metrics for the fold to the scores dict\n",
    "        allocate_report_metrics(fold+1, model_scores.setdefault(label, {}), model_report, accuracy, auc)\n",
    "        # add confusion matrix values for the fold\n",
    "        conf_matrix.setdefault(label, []).append(confusion_matrix(y_test, preds))\n",
    "        \n",
    "        if hasattr(estimator, 'coef_'):\n",
    "            avg_coefs.append(estimator.coef_) \n",
    "    \n",
    "    # average our confusion matrices gathered across each fold\n",
    "    for label, mat_list in conf_matrix.items():\n",
    "        conf_matrix[label] = np.mean(np.asarray(mat_list), axis=0).round().astype(int)\n",
    "\n",
    "    # average our coefficients across each fold (for interpretation)\n",
    "    if avg_coefs != []:\n",
    "        avg_coefs = np.mean(np.asarray(avg_coefs), axis=0)[0]\n",
    "        coefs['coefficients'] = get_feature_coefs(avg_coefs, df_[feature_cols].columns)\n",
    "\n",
    "    return model_scores, conf_matrix, coefs"
   ]
  },
  {
   "cell_type": "markdown",
   "metadata": {},
   "source": [
    "### Logistic Regression Models"
   ]
  },
  {
   "cell_type": "markdown",
   "metadata": {},
   "source": [
    "We will be building 3 different logistic regression models to compare and interpret from. One basic logistic regression model (with no regularization), and two models *with* regularization, one with L1 regularization and one with L2 regularization.\n",
    "\n",
    "The solver we will be using is `saga`, since, while not very high-dimensional, the dataset is rather large, and `saga` may more easily converge than some of the other solvers.\n",
    "\n",
    "Due to the class imbalance, we will introduce 'balanced' class weights, in order to more completely represent the minority class."
   ]
  },
  {
   "cell_type": "markdown",
   "metadata": {},
   "source": [
    "#### Simple Logistic Regression"
   ]
  },
  {
   "cell_type": "markdown",
   "metadata": {},
   "source": [
    "##### Training and Test Results"
   ]
  },
  {
   "cell_type": "code",
   "execution_count": null,
   "metadata": {},
   "outputs": [],
   "source": [
    "from sklearn.linear_model import LogisticRegression\n",
    "\n",
    "model_label = 'lr'\n",
    "\n",
    "lr_kwargs = {\n",
    "    'solver': 'saga',\n",
    "    'max_iter': 1000, \n",
    "    'n_jobs': -1, \n",
    "    'class_weight': 'balanced'}\n",
    "\n",
    "num_folds = 5\n",
    "\n",
    "for sampling in range(-1, 2):\n",
    "    lr_scores, lr_conf_mat, lr_coef = train_test_results(\n",
    "                                            df_=dfc,\n",
    "                                            num_folds=num_folds,\n",
    "                                            test_size=0.3,\n",
    "                                            model=LogisticRegression,\n",
    "                                            label=model_label,\n",
    "                                            sampling=sampling,\n",
    "                                            **lr_kwargs)\n",
    "    \n",
    "    plot_performance_metrics(lr_scores, num_folds=num_folds, sampling=sampling)\n",
    "    plot_confusion_matrix(lr_conf_mat, num_folds=num_folds, sampling=sampling)\n",
    "    visualize_coefs(lr_coef['label'], lr_coef['coefficients'], num_folds=num_folds, sampling=sampling)"
   ]
  },
  {
   "cell_type": "markdown",
   "metadata": {},
   "source": [
    "##### Discussion"
   ]
  },
  {
   "cell_type": "markdown",
   "metadata": {},
   "source": [
    "Our plots for the metrics across folds are relatively flat for all metrics, indicating that our model is performing pretty consistently with the data.\n",
    "\n",
    "Additionally, the performance metrics show very little change with the different sampling techniques. It's likely that relying on `'balanced'` class weights is sufficient. We will omit the sampling methods for the remainder of the logistic regression model training, since we should expect a similar lack of change between the sampling techniques.\n",
    "\n",
    "We see from both the metrics plot and the confusion matrix that the model is quite good at predicting true negative outcomes, and its recall is rather high. While the precision and f1-score are rather low, having a high recall is desirable for this sort of problem, as we would rather err on the side of caution when it comes to detecting hazardous objects in space.\n",
    "\n",
    "Looking at our coefficients across the different sampling methods, we see a lot of variation. \n",
    "\n",
    "Under-sampling yielded the most intuitive coefficients. The signs for each align with what we would expect for this kind of problem.\n",
    "\n",
    "With neither under- nor over-sampling, we can see the coefficients have inflated a bit, but also something a bit problematic. \n",
    "The coefficients for `estimated_diameter_min` and `estimated_diameter_max` are negative. \n",
    "This appears contradictory to what we might expect, since the large, negative coefficient for `absolute_magnitude` indicates that a larger object means it is more likely to be hazardous, but the negative coefficents for `estimated_diameter_min` and `estimated_diameter_max` indicate the opposite.\n",
    "\n",
    "The coefficients with over-sampling appear similar to those of the prior test without any additional sampling techniques, though they have inflated even further."
   ]
  },
  {
   "cell_type": "markdown",
   "metadata": {},
   "source": [
    "#### Logistic Regression with L1 Regularization"
   ]
  },
  {
   "cell_type": "markdown",
   "metadata": {},
   "source": [
    "Given the consistency of our metrics across our 5 folds for the simple logistic regression model, we will continue with a single train-test split for the remainder of our logistic regression model training. The decision to do this is primarily to speed up the training process, as we will be introducing GridSearchCV in order to determine the best regularization strength."
   ]
  },
  {
   "cell_type": "markdown",
   "metadata": {},
   "source": [
    "##### Training and Test Results"
   ]
  },
  {
   "cell_type": "code",
   "execution_count": null,
   "metadata": {},
   "outputs": [],
   "source": [
    "from sklearn.model_selection import GridSearchCV\n",
    "\n",
    "\n",
    "model_label = 'lr_L1'\n",
    "\n",
    "lrl1 = LogisticRegression(\n",
    "    penalty='l1', solver='saga', \n",
    "    class_weight='balanced', \n",
    "    random_state=42, max_iter=1000, n_jobs=-1)\n",
    "\n",
    "lrl1_param_grid = { 'C': np.geomspace(start=1e-4, stop=1e4, num=9) }\n",
    "\n",
    "lrl1_kwargs = {\n",
    "    'estimator': lrl1, 'param_grid': lrl1_param_grid, \n",
    "    'scoring': 'f1', 'n_jobs': -1}\n",
    "\n",
    "sampling = 0\n",
    "num_folds = 1  # remove additional folds\n",
    "\n",
    "lrl1_scores, lrl1_conf_mat, lrl1_coef = train_test_results(\n",
    "                                        df_=dfc,\n",
    "                                        num_folds=num_folds,\n",
    "                                        test_size=0.3,\n",
    "                                        model=GridSearchCV,\n",
    "                                        label=model_label,\n",
    "                                        sampling=sampling,\n",
    "                                        **lrl1_kwargs)\n",
    "\n",
    "plot_performance_metrics(lrl1_scores, num_folds=num_folds, sampling=sampling)\n",
    "plot_confusion_matrix(lrl1_conf_mat, num_folds=num_folds, sampling=sampling)\n",
    "visualize_coefs(lrl1_coef['label'], lrl1_coef['coefficients'], num_folds=num_folds, sampling=sampling)"
   ]
  },
  {
   "cell_type": "markdown",
   "metadata": {},
   "source": [
    "##### Discussion"
   ]
  },
  {
   "cell_type": "markdown",
   "metadata": {},
   "source": [
    "We're seeing a marginal increase in the performance metrics with this L1-regularized model compared to the previous simple logistic regression model. Interestingly, our feature coefficients appear to have inflated tremendously. This could be due to the larger training set, and hint at over-fitting.\n",
    "\n",
    "Let's try manually increasing the regularization strength, and see if we can get comparable results with more intuitive coefficients.\n",
    "\n",
    "After manually testing various powers of 10, the feature coefficients remained similarly large and negative until `C=0.01`, and all but one feature vanished entirely around `C=0.001`. So let's try testing some `C` values between those."
   ]
  },
  {
   "cell_type": "code",
   "execution_count": null,
   "metadata": {},
   "outputs": [],
   "source": [
    "model_label = 'lr_strongerL1'\n",
    "\n",
    "lrl1 = LogisticRegression(\n",
    "    penalty='l1', solver='saga', \n",
    "    class_weight='balanced', \n",
    "    random_state=42, max_iter=1000, n_jobs=-1)\n",
    "\n",
    "# limit the bounds of `C` values\n",
    "#   this will manually increase our regularization strength\n",
    "lrl1_param_grid = { 'C': np.geomspace(start=1e-3, stop=1e-2, num=9) }\n",
    "                   \n",
    "lrl1_kwargs = {\n",
    "    'estimator': lrl1, 'param_grid': lrl1_param_grid, \n",
    "    'scoring': 'f1', 'n_jobs': -1}\n",
    "\n",
    "sampling = 0\n",
    "num_folds = 1  # remove additional folds\n",
    "\n",
    "lrl1_scores, lrl1_conf_mat, lrl1_coef = train_test_results(\n",
    "                                        df_=dfc,\n",
    "                                        num_folds=num_folds,\n",
    "                                        test_size=0.3,\n",
    "                                        model=GridSearchCV,\n",
    "                                        label=model_label,\n",
    "                                        sampling=sampling,\n",
    "                                        **lrl1_kwargs)\n",
    "\n",
    "plot_performance_metrics(lrl1_scores, num_folds=num_folds, sampling=sampling)\n",
    "plot_confusion_matrix(lrl1_conf_mat, num_folds=num_folds, sampling=sampling)\n",
    "visualize_coefs(lrl1_coef['label'], lrl1_coef['coefficients'], num_folds=num_folds, sampling=sampling)"
   ]
  },
  {
   "cell_type": "markdown",
   "metadata": {},
   "source": [
    "While we took a slight hit in performance, it remained fairly comparable to the previous test, and our coefficients make a bit more sense. \n",
    "\n",
    "It would make sense that a lower `miss_distance` would correspond to the object being more hazardous, and similarly for a larger object (indicated by *lower* `absolute_magnitude`). An object with a higher `relative_velocity` being deemed as more dangerous also makes sense within our problem.\n",
    "\n",
    "Strangely, however, contributions from the estimated diameter features have vanished entirely.\n",
    "\n",
    "The run time was significantly shorter with higher regularization as well, only taking about 28 seconds, while the previous L1-regularized model took about 8.75 minutes.\n",
    "\n",
    "Let's evaluate our last logistic regression model, and then we'll compare and interpret the results for all of them."
   ]
  },
  {
   "cell_type": "markdown",
   "metadata": {},
   "source": [
    "#### Logistic Regression with L2 Regularization"
   ]
  },
  {
   "cell_type": "markdown",
   "metadata": {},
   "source": [
    "Given the results from the L1 regularization tests, let's see how a logistic regression model with L2 regularization behaves with similar hyperparameters."
   ]
  },
  {
   "cell_type": "markdown",
   "metadata": {},
   "source": [
    "##### Training and Analysis"
   ]
  },
  {
   "cell_type": "code",
   "execution_count": null,
   "metadata": {},
   "outputs": [],
   "source": [
    "model_label = 'lr_L2'\n",
    "\n",
    "lrl2 = LogisticRegression(\n",
    "    penalty='l2', solver='saga', \n",
    "    class_weight='balanced', \n",
    "    random_state=42, max_iter=1000, n_jobs=-1)\n",
    "\n",
    "lrl2_param_grid = { 'C': np.geomspace(start=1e-4, stop=1e4, num=9) }\n",
    "\n",
    "lrl2_kwargs = {\n",
    "    'estimator': lrl2, 'param_grid': lrl2_param_grid, \n",
    "    'scoring': 'f1', 'n_jobs': -1}\n",
    "\n",
    "sampling = 0\n",
    "num_folds = 1  # remove additional folds\n",
    "\n",
    "lrl2_scores, lrl2_conf_mat, lrl2_coef = train_test_results(\n",
    "                                        df_=dfc,\n",
    "                                        num_folds=num_folds,\n",
    "                                        test_size=0.3,\n",
    "                                        model=GridSearchCV,\n",
    "                                        label=model_label,\n",
    "                                        sampling=sampling,\n",
    "                                        **lrl2_kwargs)\n",
    "\n",
    "plot_performance_metrics(lrl2_scores, num_folds=num_folds, sampling=sampling)\n",
    "plot_confusion_matrix(lrl2_conf_mat, num_folds=num_folds, sampling=sampling)\n",
    "visualize_coefs(lrl2_coef['label'], lrl2_coef['coefficients'], num_folds=num_folds, sampling=sampling)"
   ]
  },
  {
   "cell_type": "markdown",
   "metadata": {},
   "source": [
    "##### Discussion"
   ]
  },
  {
   "cell_type": "markdown",
   "metadata": {},
   "source": [
    "Once again, we see a small increase in performance metrics compared to the simple logistic regression model, but our coefficients hint at overfitting.\n",
    "\n",
    "Let's proceed with a similar manual increase in the regularization strength as before and compare the differences.\n",
    "\n",
    "As I decreased the upper bound of the range of `C` values, the largest `C` (lowest regularization strength) was consistently selected. This behavior stopped after setting the upper bound to 1.0, deciding `C=0.01` yielded the best results. Let's perform a more fine-grained parameter search around this value."
   ]
  },
  {
   "cell_type": "code",
   "execution_count": null,
   "metadata": {},
   "outputs": [],
   "source": [
    "model_label = 'lr_strongerL2'\n",
    "\n",
    "lrl2 = LogisticRegression(\n",
    "    penalty='l2', solver='saga', \n",
    "    class_weight='balanced', \n",
    "    random_state=42, max_iter=1000, n_jobs=-1)\n",
    "\n",
    "lrl2_param_grid = { 'C': np.geomspace(start=1e-3, stop=1e-1, num=5) }\n",
    "\n",
    "lrl2_kwargs = {\n",
    "    'estimator': lrl2, 'param_grid': lrl2_param_grid, \n",
    "    'scoring': 'f1', 'n_jobs': -1}\n",
    "\n",
    "sampling = 0\n",
    "num_folds = 1  # remove additional folds\n",
    "\n",
    "lrl2_scores, lrl2_conf_mat, lrl2_coef = train_test_results(\n",
    "                                        df_=dfc,\n",
    "                                        num_folds=num_folds,\n",
    "                                        test_size=0.3,\n",
    "                                        model=GridSearchCV,\n",
    "                                        label=model_label,\n",
    "                                        sampling=sampling,\n",
    "                                        **lrl2_kwargs)\n",
    "\n",
    "plot_performance_metrics(lrl2_scores, num_folds=num_folds, sampling=sampling)\n",
    "plot_confusion_matrix(lrl2_conf_mat, num_folds=num_folds, sampling=sampling)\n",
    "visualize_coefs(lrl2_coef['label'], lrl2_coef['coefficients'], num_folds=num_folds, sampling=sampling)"
   ]
  },
  {
   "cell_type": "markdown",
   "metadata": {},
   "source": [
    "We see that our performance metrics remain similar to those of previous tests, but our coefficients make much more intuitive sense.\n",
    "\n",
    "The coefficients for `absolute_magnitude`, `estimated_diameter_max`, `estimated_diameter_min`, and `relative_velocity` indicate that the larger and faster an object is, the more likely it is to be hazardous. As explained before, `miss_distance` having a negative coefficient also makes sense, since the closer the object is while passing earth, the more likely it is to be hazardous. "
   ]
  },
  {
   "cell_type": "markdown",
   "metadata": {},
   "source": [
    "#### Conclusions from Logistic Regression Tests"
   ]
  },
  {
   "cell_type": "markdown",
   "metadata": {},
   "source": [
    "These models appear to be decently good at predicting true negative cases, which may be expected since our dataset is heavily skewed in favor of the negative cases. \n",
    "\n",
    "While our f1-score is pretty low, our recall is fairly high, which is reassuring for this problem since we would rather err on the side of caution than mistakenly think an object is not hazardous.\n",
    "\n",
    "Overall, these models' predicitve capabilities aren't exactly impressive, but we were able to get at least one with some interpretable results without sacrificing significant performance.\n",
    "\n",
    "Given the largely unintuitive coefficients from some of our tests, it may warrant some additional investigation into our dataset.\n",
    "\n",
    "Our L2-regularized model with stronger regularization had the fastest run time, maintained performance well, and had the most sensible coefficients. For these reasons, we will compare the SVM and random forest models with this logistic regression model moving forward."
   ]
  },
  {
   "cell_type": "markdown",
   "metadata": {},
   "source": [
    "### SVM Classifiers"
   ]
  },
  {
   "cell_type": "markdown",
   "metadata": {},
   "source": [
    "Here, we will be training two SVM classfier models.\n",
    "\n",
    "Our first model will be a linear SVC model.\n",
    "\n",
    "Our second will be an SVC with a polynomial kernel.\n",
    "\n",
    "We will compare the performance of the two, and select the best to ultimately compare with the other model types trained in this notebook."
   ]
  },
  {
   "cell_type": "markdown",
   "metadata": {},
   "source": [
    "#### Linear SVM Classifier"
   ]
  },
  {
   "cell_type": "markdown",
   "metadata": {},
   "source": [
    "From some prior testing, I determined that the better penalty to use was `l2`. It converged much faster, as tests using the `l1` penalty failed to converge with even 100,000 iterations, and had runtimes of over 30 minutes.\n",
    "\n",
    "We'll keep the `'balanced'` class weights, and determine the best regularization strength using `GridSearchCV`. I narrowed the range of values based off the prior testing.\n",
    "\n",
    "We will also test the performance across 5 folds again, as well as our different sampling techniques."
   ]
  },
  {
   "cell_type": "markdown",
   "metadata": {},
   "source": [
    "##### Training and Results"
   ]
  },
  {
   "cell_type": "code",
   "execution_count": null,
   "metadata": {},
   "outputs": [],
   "source": [
    "from sklearn.svm import LinearSVC\n",
    "from sklearn.model_selection import GridSearchCV\n",
    "\n",
    "model_label = 'linear_svc'\n",
    "\n",
    "svc_lin = LinearSVC(penalty='l2', class_weight='balanced', random_state=42, max_iter=10000)\n",
    "\n",
    "svc_lin_param_grid = {\n",
    "    'C': np.geomspace(1e-5, 1e-3, num=10),\n",
    "}\n",
    "\n",
    "svc_lin_kwargs = {\n",
    "    'estimator': svc_lin, 'param_grid': svc_lin_param_grid, \n",
    "    'scoring': 'f1', 'n_jobs': -1}\n",
    "\n",
    "num_folds = 5\n",
    "# sampling = 0\n",
    "for sampling in range(-1, 2):\n",
    "    svc_lin_scores, svc_lin_conf_mat, _ = train_test_results(\n",
    "                                            df_=dfc,\n",
    "                                            num_folds=num_folds,\n",
    "                                            test_size=0.3,\n",
    "                                            model=GridSearchCV,\n",
    "                                            label=model_label,\n",
    "                                            sampling=sampling,\n",
    "                                            **svc_lin_kwargs)\n",
    "\n",
    "    plot_performance_metrics(svc_lin_scores, num_folds=num_folds, sampling=sampling)\n",
    "    plot_confusion_matrix(svc_lin_conf_mat, num_folds=num_folds, sampling=sampling)"
   ]
  },
  {
   "cell_type": "markdown",
   "metadata": {},
   "source": [
    "##### Discussion"
   ]
  },
  {
   "cell_type": "markdown",
   "metadata": {},
   "source": [
    "Once again, we see very high consistency across folds, so we will limit the number of folds for the next SVM model. \n",
    "\n",
    "We do see a noticeable performance increase compared to our logistic regression model. We have a nominally higher recall, though our precision is similarly poor (if not a little worse). As a result, our f1-score remains low.\n",
    "\n",
    "We're seeing a substantial decrease in the number of false-negative predictions, which is somewhat reassuring, though we are getting a higher proportion of false-positive predictions as well.\n",
    "\n",
    "The differences in performance between sampling techniques are interesting here, as we see improvements in our performance metrics compared to the case with no additional sampling beyond our stratefied k-fold strategy. Despite this, we will proceed with the next SVM model without our additional sampling techniques, so as to get as much information from the dataset as possible."
   ]
  },
  {
   "cell_type": "markdown",
   "metadata": {},
   "source": [
    "#### Non-linear SVM"
   ]
  },
  {
   "cell_type": "markdown",
   "metadata": {},
   "source": [
    "As mentioned before, we will train this model on a single fold of the dataset, since we maintained consistent performance metrics across the 5 folds in our linear SVM tests. Additionally, we will be omitting the additional sampling techniques.\n",
    "\n",
    "From some prior testing, the `'poly'` kernel appeared to perform the best compared to `'rbf'` and `'sigmoid'`.\n",
    "\n",
    "Like we did with the regularized logistic regression models, we will use `GridSearchCV` to identify the ideal regularization strength. Within those prior tests, a `C` value of 0.1 was deemed optimal, but we will test other strengths around that value here as well."
   ]
  },
  {
   "cell_type": "markdown",
   "metadata": {},
   "source": [
    "##### Training and Results"
   ]
  },
  {
   "cell_type": "code",
   "execution_count": null,
   "metadata": {},
   "outputs": [],
   "source": [
    "from sklearn.svm import SVC\n",
    "\n",
    "model_label = 'svc_poly'\n",
    "\n",
    "svc_poly = SVC(C=0.1, kernel='poly', class_weight='balanced', max_iter=-1)\n",
    "\n",
    "svc_poly_param_grid = {\n",
    "    'C': np.geomspace(1e-2, 1e0, num=5)}\n",
    "\n",
    "svc_poly_kwargs = {\n",
    "    'estimator': svc_poly, 'param_grid': svc_poly_param_grid, \n",
    "    'scoring': 'f1', 'n_jobs': -1}\n",
    "\n",
    "num_folds = 1\n",
    "sampling = 0\n",
    "svc_poly_scores, svc_poly_conf_mat, _ = train_test_results(\n",
    "                                            df_=dfc,\n",
    "                                            num_folds=num_folds,\n",
    "                                            test_size=0.3,\n",
    "                                            model=GridSearchCV,\n",
    "                                            label=model_label,\n",
    "                                            sampling=sampling,\n",
    "                                            **svc_poly_kwargs)\n",
    "\n",
    "plot_performance_metrics(svc_poly_scores, num_folds=num_folds, sampling=sampling)\n",
    "plot_confusion_matrix(svc_poly_conf_mat, num_folds=num_folds, sampling=sampling)"
   ]
  },
  {
   "cell_type": "markdown",
   "metadata": {},
   "source": [
    "##### Discussion"
   ]
  },
  {
   "cell_type": "markdown",
   "metadata": {},
   "source": [
    "The first thing we notice is that this model has a much higher recall. \n",
    "\n",
    "Our other metrics, however, remain relatively unchanged, so it's hard to say the 44.5 minute run time is justified.\n",
    "\n",
    "For this reason, we will continue on with our comparisons between model types using the linear SVC model."
   ]
  },
  {
   "cell_type": "markdown",
   "metadata": {},
   "source": [
    "#### SVM Classifier Conclusions"
   ]
  },
  {
   "cell_type": "code",
   "execution_count": null,
   "metadata": {},
   "outputs": [],
   "source": [
    "lrl2_scores"
   ]
  },
  {
   "cell_type": "code",
   "execution_count": null,
   "metadata": {},
   "outputs": [],
   "source": [
    "print(\"linear_svc:\")\n",
    "for key, val in svc_lin_scores['linear_svc'].items():\n",
    "    if key == 'fold':\n",
    "        continue\n",
    "    print(key, np.mean(val))"
   ]
  },
  {
   "cell_type": "markdown",
   "metadata": {},
   "source": [
    "The performance of our SVM classifier models showed very little improvement in most metrics from our L2-regularized logistic regression model. \n",
    "\n",
    "The most notable improvement over our L2-regularized logistic regression model is the much higher recall.\n",
    "\n",
    "For the other metrics, we see we had slightly lower precision, but a slightly higher AUC score.\n",
    "\n",
    "As for run time, our chosen logistic regression model finished its train-test loop in ~16 seconds, while the linear SVC model completes a similar run in ~5 seconds (this time was determined by running the linear SVC model in a separate train-test loop with a single C value, 1 fold, and no additional sampling methods).\n",
    "\n",
    "Overall, I think with having a much higher recall, comparable other metrics, and a much lower runtime, I think the linear SVC model wins this round."
   ]
  },
  {
   "cell_type": "markdown",
   "metadata": {},
   "source": [
    "### Random Forest Classifier"
   ]
  },
  {
   "cell_type": "markdown",
   "metadata": {},
   "source": [
    "Lastly, we will be training a single Random Forest classifier model.\n",
    "\n",
    "We will be using the Gini index as our criterion, and we will be including the `'balanced'` class weights again.\n",
    "\n",
    "For our `max_features` and `n_estimators` parameters, we will use `GridSearchCV` to determine the best combination within the following ranges:\n",
    "    \n",
    "        - max_features: [2, 3, 4]\n",
    "    \n",
    "        - n_estimators: [100, 250, 500]\n",
    "\n",
    "Since random forest doesn't demand standardized/scaled features, we will also run the model with the winning parameters on the un-scaled data to see if there are any noticeable performance differences."
   ]
  },
  {
   "cell_type": "markdown",
   "metadata": {},
   "source": [
    "#### Training and Results"
   ]
  },
  {
   "cell_type": "code",
   "execution_count": null,
   "metadata": {},
   "outputs": [],
   "source": [
    "from sklearn.ensemble import RandomForestClassifier\n",
    "\n",
    "model_label = 'rand_forest'\n",
    "\n",
    "rand_forest = RandomForestClassifier(\n",
    "    n_estimators=500, criterion='gini', max_features='sqrt', \n",
    "    n_jobs=-1, random_state=42, class_weight='balanced')\n",
    "\n",
    "rand_forest_param_grid = {\n",
    "    'max_features': [2, 3, 4],\n",
    "    'n_estimators': [100, 250, 500]}\n",
    "\n",
    "rand_forest_kwargs = {\n",
    "    'estimator': rand_forest, 'param_grid': rand_forest_param_grid, \n",
    "    'scoring': 'f1', 'n_jobs': -1}\n",
    "\n",
    "num_folds = 1\n",
    "sampling = 0\n",
    "rand_forest_scores, rand_forest_conf_mat, _ = train_test_results(\n",
    "                                                df_=dfc,\n",
    "                                                num_folds=num_folds,\n",
    "                                                test_size=0.3,\n",
    "                                                model=GridSearchCV,\n",
    "                                                label=model_label,\n",
    "                                                sampling=sampling,\n",
    "                                                **rand_forest_kwargs)\n",
    "\n",
    "plot_performance_metrics(rand_forest_scores, num_folds=num_folds, sampling=sampling)\n",
    "plot_confusion_matrix(rand_forest_conf_mat, num_folds=num_folds, sampling=sampling)"
   ]
  },
  {
   "cell_type": "markdown",
   "metadata": {},
   "source": [
    "It looks like 2 `max_features` and 500 `n_estimators` are our winning parameters.\n",
    "\n",
    "Let's do our second run with the other sampling techniques included for a deeper comparison. Then we'll move onto discussion."
   ]
  },
  {
   "cell_type": "code",
   "execution_count": null,
   "metadata": {},
   "outputs": [],
   "source": [
    "from sklearn.ensemble import RandomForestClassifier\n",
    "\n",
    "model_label = 'rand_forest'\n",
    "\n",
    "rand_forest = RandomForestClassifier(\n",
    "    n_estimators=100, criterion='gini', max_features='sqrt', \n",
    "    n_jobs=-1, random_state=42, class_weight='balanced')\n",
    "\n",
    "rand_forest_param_grid = {\n",
    "    'max_features': [2],\n",
    "    'n_estimators': [500]}\n",
    "\n",
    "rand_forest_kwargs = {\n",
    "    'estimator': rand_forest, 'param_grid': rand_forest_param_grid, \n",
    "    'scoring': 'f1', 'n_jobs': -1}\n",
    "\n",
    "num_folds = 1\n",
    "# sampling = 0\n",
    "for sampling in [-1, 1, 0]:\n",
    "    rand_forest_scores, rand_forest_conf_mat, _ = train_test_results(\n",
    "                                                    df_=df,  # run using the original dataset, rather than the transformed copy\n",
    "                                                    num_folds=num_folds,\n",
    "                                                    test_size=0.3,\n",
    "                                                    model=GridSearchCV,\n",
    "                                                    label=model_label,\n",
    "                                                    sampling=sampling,\n",
    "                                                    **rand_forest_kwargs)\n",
    "\n",
    "    plot_performance_metrics(rand_forest_scores, num_folds=num_folds, sampling=sampling)\n",
    "    plot_confusion_matrix(rand_forest_conf_mat, num_folds=num_folds, sampling=sampling)"
   ]
  },
  {
   "cell_type": "markdown",
   "metadata": {},
   "source": [
    "#### Discussion"
   ]
  },
  {
   "cell_type": "markdown",
   "metadata": {},
   "source": []
  },
  {
   "cell_type": "markdown",
   "metadata": {},
   "source": [
    "## Summary and Conclusions"
   ]
  },
  {
   "cell_type": "markdown",
   "metadata": {},
   "source": [
    "### Describing the Data"
   ]
  },
  {
   "cell_type": "markdown",
   "metadata": {},
   "source": [
    "The dataset used in this notebook is the [\"NASA | Nearest Earth Objects (1910-2024)\"](https://www.kaggle.com/datasets/ivansher/nasa-nearest-earth-objects-1910-2024) dataset from Kaggle. This dataset contains a collection of 338,199 samples of \"near earth objects\" (asteroids), which are classified as either \"hazardous\" or \"not hazardous\".\n",
    "\n",
    "Each sample has 8 features:\n",
    "\n",
    "        - neo_id : Unique identifier for each asteroid\n",
    "\n",
    "        - name : Name of the object given by NASA\n",
    "\n",
    "        - absolute-magnitude : this represents the intrinsic luminosity of the object (lower value means a larger OR brighter object)\n",
    "\n",
    "        - estimated_diameter_min : the estimated minimum diameter of the object\n",
    "\n",
    "        - estimated_diameter_max : the estimated maximum diameter of the object\n",
    "\n",
    "        - orbiting_body : the primary body that the object is orbiting (Earth)\n",
    "\n",
    "        - relative_velocity : the velocity relative to earth in Kmph\n",
    "\n",
    "        - miss_distance : the distance in Km that the object missed earth in the logged pass\n",
    "\n",
    "`neo_id`, `name`, and `orbiting_body` are excluded from the training, since the first two are simply names given to each object, and `orbiting_body` only has a single unique value across all samples. For these reasons, these features offer no predictive power.\n",
    "\n",
    "In addition to dropping these columns, there are a small amount ( < 1%) of samples that contain null values. Since the number of these samples is very small, I felt it was safe to remove these from our data.\n",
    "\n",
    "The distributions for our features are all highly skewed, and vary greatly in scale. Additionally, the features show strong correlations. `estimated_diameter_min` and `estimated_diameter_max` have a near perfect positive correlation. `estimated_diameter_min` and `estimated_diameter_max` also both had a very strong negative correlation with `absolute_magnitude`. These correlations make sense, since the larger an object is, both the `estimated_diameter_min` and `estimated_diameter_max` should be larger, and `absolute_magnitude` should be smaller, since a smaller `absolute_magnitude` corresponds to a larger (or brighter) object.\n",
    "\n",
    "To address the skewed distributions of our features, I applied necessary transformations to normalize each feature's distribution, as well as fix the scale with a min-max scaler. The gaussian-like distributions are preferrable for the first two models we trained (logistic regression and SVM), and the choice of using the min-max scaler after normalization was to keep the values positive for interpretability (negative distances and sizes make little sense for this problem)."
   ]
  },
  {
   "cell_type": "markdown",
   "metadata": {},
   "source": [
    "### Objective of Analysis"
   ]
  },
  {
   "cell_type": "markdown",
   "metadata": {},
   "source": [
    "In this notebook, we trained and evaluated several different models: 3 logistic regression classifiers, 2 SVM classifiers, and a random forest classifier.\n",
    "\n",
    "Since we trained multiple logistic regression and SVM classifiers, we identified which performs the best to compare with the other model types.\n",
    "\n",
    "Our goal is to identify which model type performs best on the dataset in terms of run time and f1-score."
   ]
  },
  {
   "cell_type": "markdown",
   "metadata": {},
   "source": [
    "### Model Results and Comparisons"
   ]
  },
  {
   "cell_type": "markdown",
   "metadata": {},
   "source": [
    "#### Logistic Regression Models"
   ]
  },
  {
   "cell_type": "code",
   "execution_count": null,
   "metadata": {},
   "outputs": [],
   "source": [
    "lr_scores\n",
    "print('simple logistic regression:')\n",
    "for key, val in lr_scores['lr'].items():\n",
    "    if key == 'fold':\n",
    "        continue\n",
    "    print('\\t', key, np.mean(val))"
   ]
  },
  {
   "cell_type": "code",
   "execution_count": null,
   "metadata": {},
   "outputs": [],
   "source": [
    "lrl1_scores\n",
    "print('L1-regularized logistic regression:')\n",
    "for key, val in lrl1_scores['lr_strongerL1'].items():\n",
    "    if key == 'fold':\n",
    "        continue\n",
    "    print('\\t', key, np.mean(val))"
   ]
  },
  {
   "cell_type": "code",
   "execution_count": null,
   "metadata": {},
   "outputs": [],
   "source": [
    "lrl2_scores\n",
    "print('L2-regularized logistic regression:')\n",
    "for key, val in lrl2_scores['lr_strongerL2'].items():\n",
    "    if key == 'fold':\n",
    "        continue\n",
    "    print('\\t', key, np.mean(val))"
   ]
  },
  {
   "cell_type": "markdown",
   "metadata": {},
   "source": [
    "We trained three different logistic regression models in order to find out which performed the best in terms of our desired metric and run time.\n",
    "\n",
    "Overall, our logistic regression models performed rather poorly. While they were able to achieve decently high recall, our f1-score was hindered by the poor precision score.\n",
    "\n",
    "When trained and tested across 5 stratefied folds, the performance was very stable.\n",
    "\n",
    "Our L2-regularized model performed the fastest at around 15 seconds, and was able to produce much more intuitive and stable coefficients compared to the other two logistic regression models. And though it was marginal, it did yield the highest f1-score."
   ]
  },
  {
   "cell_type": "markdown",
   "metadata": {},
   "source": [
    "#### SVM Models"
   ]
  },
  {
   "cell_type": "code",
   "execution_count": null,
   "metadata": {},
   "outputs": [],
   "source": [
    "svc_lin_scores\n",
    "print('Linear SVC:')\n",
    "for key, val in svc_lin_scores['linear_svc'].items():\n",
    "    if key == 'fold':\n",
    "        continue\n",
    "    print('\\t', key, np.mean(val))"
   ]
  },
  {
   "cell_type": "code",
   "execution_count": null,
   "metadata": {},
   "outputs": [],
   "source": [
    "svc_poly_scores\n",
    "print('SVC with Polynomial Kernel:')\n",
    "for key, val in svc_poly_scores['svc_poly'].items():\n",
    "    if key == 'fold':\n",
    "        continue\n",
    "    print('\\t', key, np.mean(val))"
   ]
  },
  {
   "cell_type": "markdown",
   "metadata": {},
   "source": [
    "We trained two SVM classifier models. The first was a linear SVC, and the second was an SVC with a polynomial kernel.\n",
    "\n",
    "The two models performed very similarly, with the polynomial SVC only beating the linear SVC in the f1-score by 0.01. However, the run time difference was substantial. The linear SVC model finished the train-test loop in about 1.25 minutes, whereas the polynomial SVC model finished in 44.75 minutes. \n",
    "\n",
    "Given the very minute performance difference, I determined the linear SVC model was much more suited for this problem."
   ]
  },
  {
   "cell_type": "markdown",
   "metadata": {},
   "source": [
    "#### Random Forest Model"
   ]
  },
  {
   "cell_type": "code",
   "execution_count": null,
   "metadata": {},
   "outputs": [],
   "source": [
    "rand_forest_scores\n",
    "print('Random Forest:')\n",
    "for key, val in rand_forest_scores['rand_forest'].items():\n",
    "    if key == 'fold':\n",
    "        continue\n",
    "    print('\\t', key, np.mean(val))"
   ]
  },
  {
   "cell_type": "markdown",
   "metadata": {},
   "source": [
    "The random forest model performed much more evenly across its metrics.\n",
    "\n",
    "With the highest accuracy and f1-score so far, it showed some good promise. However, the poor recall is worrisome, as low recall for determining a hazardous asteroids is problematic.\n",
    "\n",
    "The auc score was also not as good as either the linear SVC model, nor the L2-regularized logistic regression model. While not our metric of focus for these experiments, it's worth noting.\n",
    "\n",
    "Lastly, the run time for the random forest model was just under 6 minutes. While this may be reducible somewhat by limiting the number of estimators, we should expect to see a drop in performance from this."
   ]
  },
  {
   "cell_type": "markdown",
   "metadata": {},
   "source": [
    "#### Best Model Based on Results"
   ]
  },
  {
   "cell_type": "markdown",
   "metadata": {},
   "source": [
    "As per our objective, we were trying to identify the model best suited to the problem in terms of f1-score and runtime. \n",
    "\n",
    "Of the 6 models tested, it seems the linear SVC model may be best suited for this problem. While it had a lower f1-score than the random forest model (0.46 for linear SVC, 0.62 for random forest), its run time was significantly faster (~5sec for linear SVC, 5min50sec for random forest). With some further experiments varying the transformations applied to the features, I'm sure a better f1-score can be achieved. It is also important to note that the recall was much higher with the linear SVC model (0.96 for linear SVC, 0.56 for random forest)."
   ]
  },
  {
   "cell_type": "markdown",
   "metadata": {},
   "source": [
    "### Key Findings"
   ]
  },
  {
   "cell_type": "markdown",
   "metadata": {},
   "source": [
    "We had very consistent results in tests including multiple folds, and similarly consistent metrics between different sampling techniques (under-/over-sampling or none). This indicates that our models did not favor any particular data points, and that our features had been at least mostly appropriately scaled.\n",
    "\n",
    "High recall and low precision was found in both our logistic regression models, as well as our SVC models. Our random forest model, however, had much more even performance metrics, having lower recall than the other models, but a higher precision. The high recall and low precision gave rise to rather poor f1-scores across the board.\n",
    "\n",
    "As we noted when inspecting and transforming our dataset, we found very high correlations between a few of our features. This may have impacted our performance metrics, as well as the convergence time for some models.\n",
    "\n",
    "Though we focused on training with neither under- nor over-sampling, under-sampling seemed to assist performance in some tests."
   ]
  },
  {
   "cell_type": "markdown",
   "metadata": {},
   "source": [
    "### Possible Flaws and Suggested Revisions"
   ]
  },
  {
   "cell_type": "markdown",
   "metadata": {},
   "source": [
    "Given the very strong correlations between our features and the generally low performance of our models, it may be worth revisiting this problem with some further data transformations.\n",
    "\n",
    "`estimated_diameter_min` and `estimated_diameter_max` had an essentially perfect positive correlation. These two features also had very strong negative correlations with `absolute_magnitude`. While we noted that these correlations were expected, it may still be worth addressing these in some further tests. Performing PCA transformations may help quite a bit, but we risk losing some interpretability. Averaging `estimated_diameter_min` and `estimated_diameter_max` may also be a valid approach, since `absolute_magnitude` (aka intrinsic luminosity) also factors in reflectivity.\n",
    "\n",
    "I would expect addressing the correlations will provide a much needed performance boost for our linear SVC model, and perhaps our random forest model as well.\n",
    "\n",
    "It would also be interesting to test a combination of random forest and the linear SVC models, especially if they each perform better in different metrics."
   ]
  },
  {
   "cell_type": "markdown",
   "metadata": {},
   "source": [
    "## -----------------------------------------"
   ]
  },
  {
   "cell_type": "markdown",
   "metadata": {},
   "source": [
    "## Revisiting the Problem with PCA"
   ]
  },
  {
   "cell_type": "markdown",
   "metadata": {},
   "source": [
    "### Preparing the data"
   ]
  },
  {
   "cell_type": "code",
   "execution_count": 36,
   "metadata": {},
   "outputs": [],
   "source": [
    "from sklearn.preprocessing import MinMaxScaler\n",
    "from sklearn.preprocessing import StandardScaler\n",
    "from sklearn.preprocessing import PowerTransformer\n",
    "from sklearn.preprocessing import QuantileTransformer\n",
    "\n",
    "\n",
    "dfc2 = df.copy()  # copy our dataframe, so we can apply transformations on the copy rather than the original.\n",
    "\n",
    "mms = MinMaxScaler()\n",
    "ss = StandardScaler()\n",
    "bct = PowerTransformer(method='box-cox')\n",
    "qt = QuantileTransformer(output_distribution='normal', random_state=42)\n",
    "\n",
    "dfc2['absolute_magnitude'] = ss.fit_transform(pd.DataFrame(dfc2['absolute_magnitude']))\n",
    "\n",
    "dfc2['estimated_diameter_min'] = bct.fit_transform(pd.DataFrame(dfc2['estimated_diameter_min']))\n",
    "\n",
    "dfc2['estimated_diameter_max'] = bct.fit_transform(pd.DataFrame(dfc2['estimated_diameter_max']))\n",
    "\n",
    "dfc2['relative_velocity'] = bct.fit_transform(pd.DataFrame(dfc2['relative_velocity']))\n",
    "dfc2['relative_velocity'] = ss.fit_transform(pd.DataFrame(dfc2['relative_velocity']))\n",
    "\n",
    "dfc2['miss_distance'] = qt.fit_transform(pd.DataFrame(dfc2['miss_distance']))\n",
    "\n",
    "if True: # We won't apply min-max prior to PCA\n",
    "    dfc2['absolute_magnitude'] = mms.fit_transform(pd.DataFrame(dfc2['absolute_magnitude']))\n",
    "    dfc2['estimated_diameter_min'] = mms.fit_transform(pd.DataFrame(dfc2['estimated_diameter_min']))\n",
    "    dfc2['estimated_diameter_max'] = mms.fit_transform(pd.DataFrame(dfc2['estimated_diameter_max']))\n",
    "    dfc2['relative_velocity'] = mms.fit_transform(pd.DataFrame(dfc2['relative_velocity']))\n",
    "    dfc2['miss_distance'] = mms.fit_transform(pd.DataFrame(dfc2['miss_distance']))"
   ]
  },
  {
   "cell_type": "code",
   "execution_count": 37,
   "metadata": {},
   "outputs": [
    {
     "data": {
      "text/html": [
       "<div>\n",
       "<style scoped>\n",
       "    .dataframe tbody tr th:only-of-type {\n",
       "        vertical-align: middle;\n",
       "    }\n",
       "\n",
       "    .dataframe tbody tr th {\n",
       "        vertical-align: top;\n",
       "    }\n",
       "\n",
       "    .dataframe thead th {\n",
       "        text-align: right;\n",
       "    }\n",
       "</style>\n",
       "<table border=\"1\" class=\"dataframe\">\n",
       "  <thead>\n",
       "    <tr style=\"text-align: right;\">\n",
       "      <th></th>\n",
       "      <th>Component 0</th>\n",
       "      <th>Component 1</th>\n",
       "      <th>Component 2</th>\n",
       "      <th>Component 3</th>\n",
       "      <th>Component 4</th>\n",
       "      <th>is_hazardous</th>\n",
       "    </tr>\n",
       "  </thead>\n",
       "  <tbody>\n",
       "    <tr>\n",
       "      <th>0</th>\n",
       "      <td>-0.288078</td>\n",
       "      <td>0.031681</td>\n",
       "      <td>0.000340</td>\n",
       "      <td>0.001239</td>\n",
       "      <td>9.681074e-12</td>\n",
       "      <td>0</td>\n",
       "    </tr>\n",
       "    <tr>\n",
       "      <th>1</th>\n",
       "      <td>-0.358322</td>\n",
       "      <td>0.102696</td>\n",
       "      <td>-0.070710</td>\n",
       "      <td>0.002128</td>\n",
       "      <td>9.843989e-12</td>\n",
       "      <td>1</td>\n",
       "    </tr>\n",
       "    <tr>\n",
       "      <th>2</th>\n",
       "      <td>-0.086201</td>\n",
       "      <td>-0.059823</td>\n",
       "      <td>0.157057</td>\n",
       "      <td>-0.000896</td>\n",
       "      <td>-2.098127e-11</td>\n",
       "      <td>0</td>\n",
       "    </tr>\n",
       "    <tr>\n",
       "      <th>3</th>\n",
       "      <td>-0.176455</td>\n",
       "      <td>0.024596</td>\n",
       "      <td>-0.099932</td>\n",
       "      <td>-0.000764</td>\n",
       "      <td>1.376661e-11</td>\n",
       "      <td>0</td>\n",
       "    </tr>\n",
       "    <tr>\n",
       "      <th>4</th>\n",
       "      <td>-0.034329</td>\n",
       "      <td>0.071460</td>\n",
       "      <td>0.049600</td>\n",
       "      <td>-0.001643</td>\n",
       "      <td>-5.415048e-11</td>\n",
       "      <td>0</td>\n",
       "    </tr>\n",
       "  </tbody>\n",
       "</table>\n",
       "</div>"
      ],
      "text/plain": [
       "   Component 0  Component 1  Component 2  Component 3   Component 4  \\\n",
       "0    -0.288078     0.031681     0.000340     0.001239  9.681074e-12   \n",
       "1    -0.358322     0.102696    -0.070710     0.002128  9.843989e-12   \n",
       "2    -0.086201    -0.059823     0.157057    -0.000896 -2.098127e-11   \n",
       "3    -0.176455     0.024596    -0.099932    -0.000764  1.376661e-11   \n",
       "4    -0.034329     0.071460     0.049600    -0.001643 -5.415048e-11   \n",
       "\n",
       "   is_hazardous  \n",
       "0             0  \n",
       "1             1  \n",
       "2             0  \n",
       "3             0  \n",
       "4             0  "
      ]
     },
     "execution_count": 37,
     "metadata": {},
     "output_type": "execute_result"
    }
   ],
   "source": [
    "from sklearn.decomposition import PCA\n",
    "\n",
    "pcat = PCA()\n",
    "pcat.fit(dfc2[feature_cols])\n",
    "X_hat = pd.DataFrame(pcat.transform(dfc2[feature_cols]), index=dfc2.index, columns=[f'Component {i}' for i in range(pcat.n_components_)])\n",
    "dfc_pca = pd.concat([X_hat, dfc2['is_hazardous']], axis=1)\n",
    "dfc_pca.head()"
   ]
  },
  {
   "cell_type": "code",
   "execution_count": 38,
   "metadata": {},
   "outputs": [
    {
     "name": "stdout",
     "output_type": "stream",
     "text": [
      "We can keep the first 3 components and discard the other 2,\n",
      "keeping >=99.0% of the explained variance!\n"
     ]
    }
   ],
   "source": [
    "from itertools import accumulate\n",
    "\n",
    "threshold = 0.99\n",
    "num = next(i for i, x in enumerate(accumulate(pcat.explained_variance_ratio_), 1) if x >= threshold)\n",
    "print(f'We can keep the first {num} components and discard the other {pcat.n_components_-num},')\n",
    "print(f'keeping >={100 * threshold}% of the explained variance!')"
   ]
  },
  {
   "cell_type": "code",
   "execution_count": 39,
   "metadata": {},
   "outputs": [
    {
     "data": {
      "text/plain": [
       "Index(['Component 0', 'Component 1', 'Component 2'], dtype='object')"
      ]
     },
     "execution_count": 39,
     "metadata": {},
     "output_type": "execute_result"
    }
   ],
   "source": [
    "feature_cols = dfc_pca.columns[0:3]\n",
    "feature_cols"
   ]
  },
  {
   "cell_type": "code",
   "execution_count": 40,
   "metadata": {},
   "outputs": [
    {
     "data": {
      "text/html": [
       "<div>\n",
       "<style scoped>\n",
       "    .dataframe tbody tr th:only-of-type {\n",
       "        vertical-align: middle;\n",
       "    }\n",
       "\n",
       "    .dataframe tbody tr th {\n",
       "        vertical-align: top;\n",
       "    }\n",
       "\n",
       "    .dataframe thead th {\n",
       "        text-align: right;\n",
       "    }\n",
       "</style>\n",
       "<table border=\"1\" class=\"dataframe\">\n",
       "  <thead>\n",
       "    <tr style=\"text-align: right;\">\n",
       "      <th></th>\n",
       "      <th>Component 0</th>\n",
       "      <th>Component 1</th>\n",
       "      <th>Component 2</th>\n",
       "    </tr>\n",
       "  </thead>\n",
       "  <tbody>\n",
       "    <tr>\n",
       "      <th>0</th>\n",
       "      <td>-0.288078</td>\n",
       "      <td>0.031681</td>\n",
       "      <td>0.000340</td>\n",
       "    </tr>\n",
       "    <tr>\n",
       "      <th>1</th>\n",
       "      <td>-0.358322</td>\n",
       "      <td>0.102696</td>\n",
       "      <td>-0.070710</td>\n",
       "    </tr>\n",
       "    <tr>\n",
       "      <th>2</th>\n",
       "      <td>-0.086201</td>\n",
       "      <td>-0.059823</td>\n",
       "      <td>0.157057</td>\n",
       "    </tr>\n",
       "    <tr>\n",
       "      <th>3</th>\n",
       "      <td>-0.176455</td>\n",
       "      <td>0.024596</td>\n",
       "      <td>-0.099932</td>\n",
       "    </tr>\n",
       "    <tr>\n",
       "      <th>4</th>\n",
       "      <td>-0.034329</td>\n",
       "      <td>0.071460</td>\n",
       "      <td>0.049600</td>\n",
       "    </tr>\n",
       "  </tbody>\n",
       "</table>\n",
       "</div>"
      ],
      "text/plain": [
       "   Component 0  Component 1  Component 2\n",
       "0    -0.288078     0.031681     0.000340\n",
       "1    -0.358322     0.102696    -0.070710\n",
       "2    -0.086201    -0.059823     0.157057\n",
       "3    -0.176455     0.024596    -0.099932\n",
       "4    -0.034329     0.071460     0.049600"
      ]
     },
     "execution_count": 40,
     "metadata": {},
     "output_type": "execute_result"
    }
   ],
   "source": [
    "dfc_pca[feature_cols].head()"
   ]
  },
  {
   "cell_type": "code",
   "execution_count": 41,
   "metadata": {},
   "outputs": [
    {
     "name": "stdout",
     "output_type": "stream",
     "text": [
      "best params {'C': np.float64(0.00035938136638046257)}\n",
      "best params {'C': np.float64(0.0005994842503189409)}\n",
      "best params {'C': np.float64(0.00035938136638046257)}\n",
      "best params {'C': np.float64(0.00035938136638046257)}\n",
      "best params {'C': np.float64(0.0005994842503189409)}\n"
     ]
    },
    {
     "data": {
      "image/png": "[encoded data removed]",
      "text/plain": [
       "<Figure size 1000x600 with 1 Axes>"
      ]
     },
     "metadata": {},
     "output_type": "display_data"
    },
    {
     "data": {
      "image/png": "[encoded data removed]",
      "text/plain": [
       "<Figure size 1000x800 with 2 Axes>"
      ]
     },
     "metadata": {},
     "output_type": "display_data"
    }
   ],
   "source": [
    "from sklearn.svm import LinearSVC\n",
    "from sklearn.model_selection import GridSearchCV\n",
    "\n",
    "model_label = 'linear_svc'\n",
    "\n",
    "svc_lin = LinearSVC(penalty='l2', class_weight='balanced', random_state=42, max_iter=10000)\n",
    "\n",
    "svc_lin_param_grid = {\n",
    "    'C': np.geomspace(1e-5, 1e-3, num=10),\n",
    "}\n",
    "\n",
    "svc_lin_kwargs = {\n",
    "    'estimator': svc_lin, 'param_grid': svc_lin_param_grid, \n",
    "    'scoring': 'f1', 'n_jobs': -1}\n",
    "\n",
    "num_folds = 5\n",
    "sampling = 0\n",
    "# for sampling in range(-1, 2):\n",
    "svc_lin_scores, svc_lin_conf_mat, _ = train_test_results(\n",
    "                                        df_=dfc_pca,\n",
    "                                        num_folds=num_folds,\n",
    "                                        test_size=0.3,\n",
    "                                        model=GridSearchCV,\n",
    "                                        label=model_label,\n",
    "                                        sampling=sampling,\n",
    "                                        **svc_lin_kwargs)\n",
    "\n",
    "plot_performance_metrics(svc_lin_scores, num_folds=num_folds, sampling=sampling)\n",
    "plot_confusion_matrix(svc_lin_conf_mat, num_folds=num_folds, sampling=sampling)"
   ]
  }
 ],
 "metadata": {
  "kernelspec": {
   "display_name": ".venv",
   "language": "python",
   "name": "python3"
  },
  "language_info": {
   "codemirror_mode": {
    "name": "ipython",
    "version": 3
   },
   "file_extension": ".py",
   "mimetype": "text/x-python",
   "name": "python",
   "nbconvert_exporter": "python",
   "pygments_lexer": "ipython3",
   "version": "3.10.12"
  }
 },
 "nbformat": 4,
 "nbformat_minor": 2
}
